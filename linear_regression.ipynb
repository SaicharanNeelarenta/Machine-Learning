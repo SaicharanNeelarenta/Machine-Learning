{
  "nbformat": 4,
  "nbformat_minor": 0,
  "metadata": {
    "colab": {
      "name": "linear_regression.ipynb",
      "provenance": [],
      "authorship_tag": "ABX9TyM4C8S9RAVs/aX6ED9vkD2T",
      "include_colab_link": true
    },
    "kernelspec": {
      "name": "python3",
      "display_name": "Python 3"
    },
    "language_info": {
      "name": "python"
    }
  },
  "cells": [
    {
      "cell_type": "markdown",
      "metadata": {
        "id": "view-in-github",
        "colab_type": "text"
      },
      "source": [
        "<a href=\"https://colab.research.google.com/github/SaicharanNeelarenta/Machine-Learning/blob/main/linear_regression.ipynb\" target=\"_parent\"><img src=\"https://colab.research.google.com/assets/colab-badge.svg\" alt=\"Open In Colab\"/></a>"
      ]
    },
    {
      "cell_type": "code",
      "metadata": {
        "id": "ysMYFRLbjXGf"
      },
      "source": [
        "import numpy as np\n",
        "import matplotlib.pyplot as plt\n",
        "import pandas as pd"
      ],
      "execution_count": null,
      "outputs": []
    },
    {
      "cell_type": "code",
      "metadata": {
        "colab": {
          "base_uri": "https://localhost:8080/",
          "height": 258
        },
        "id": "BgXg801Ujx9y",
        "outputId": "1f69400a-4834-42cc-9868-993eff2cd2fc"
      },
      "source": [
        "data = pd.read_csv('CO2 Emissions_Canada.csv')\n",
        "data = data.iloc[:,3:]\n",
        "data.head()"
      ],
      "execution_count": null,
      "outputs": [
        {
          "output_type": "execute_result",
          "data": {
            "text/html": [
              "<div>\n",
              "<style scoped>\n",
              "    .dataframe tbody tr th:only-of-type {\n",
              "        vertical-align: middle;\n",
              "    }\n",
              "\n",
              "    .dataframe tbody tr th {\n",
              "        vertical-align: top;\n",
              "    }\n",
              "\n",
              "    .dataframe thead th {\n",
              "        text-align: right;\n",
              "    }\n",
              "</style>\n",
              "<table border=\"1\" class=\"dataframe\">\n",
              "  <thead>\n",
              "    <tr style=\"text-align: right;\">\n",
              "      <th></th>\n",
              "      <th>Engine Size(L)</th>\n",
              "      <th>Cylinders</th>\n",
              "      <th>Transmission</th>\n",
              "      <th>Fuel Type</th>\n",
              "      <th>Fuel Consumption City (L/100 km)</th>\n",
              "      <th>Fuel Consumption Hwy (L/100 km)</th>\n",
              "      <th>Fuel Consumption Comb (L/100 km)</th>\n",
              "      <th>Fuel Consumption Comb (mpg)</th>\n",
              "      <th>CO2 Emissions(g/km)</th>\n",
              "    </tr>\n",
              "  </thead>\n",
              "  <tbody>\n",
              "    <tr>\n",
              "      <th>0</th>\n",
              "      <td>2.0</td>\n",
              "      <td>4</td>\n",
              "      <td>AS5</td>\n",
              "      <td>Z</td>\n",
              "      <td>9.9</td>\n",
              "      <td>6.7</td>\n",
              "      <td>8.5</td>\n",
              "      <td>33</td>\n",
              "      <td>196</td>\n",
              "    </tr>\n",
              "    <tr>\n",
              "      <th>1</th>\n",
              "      <td>2.4</td>\n",
              "      <td>4</td>\n",
              "      <td>M6</td>\n",
              "      <td>Z</td>\n",
              "      <td>11.2</td>\n",
              "      <td>7.7</td>\n",
              "      <td>9.6</td>\n",
              "      <td>29</td>\n",
              "      <td>221</td>\n",
              "    </tr>\n",
              "    <tr>\n",
              "      <th>2</th>\n",
              "      <td>1.5</td>\n",
              "      <td>4</td>\n",
              "      <td>AV7</td>\n",
              "      <td>Z</td>\n",
              "      <td>6.0</td>\n",
              "      <td>5.8</td>\n",
              "      <td>5.9</td>\n",
              "      <td>48</td>\n",
              "      <td>136</td>\n",
              "    </tr>\n",
              "    <tr>\n",
              "      <th>3</th>\n",
              "      <td>3.5</td>\n",
              "      <td>6</td>\n",
              "      <td>AS6</td>\n",
              "      <td>Z</td>\n",
              "      <td>12.7</td>\n",
              "      <td>9.1</td>\n",
              "      <td>11.1</td>\n",
              "      <td>25</td>\n",
              "      <td>255</td>\n",
              "    </tr>\n",
              "    <tr>\n",
              "      <th>4</th>\n",
              "      <td>3.5</td>\n",
              "      <td>6</td>\n",
              "      <td>AS6</td>\n",
              "      <td>Z</td>\n",
              "      <td>12.1</td>\n",
              "      <td>8.7</td>\n",
              "      <td>10.6</td>\n",
              "      <td>27</td>\n",
              "      <td>244</td>\n",
              "    </tr>\n",
              "  </tbody>\n",
              "</table>\n",
              "</div>"
            ],
            "text/plain": [
              "   Engine Size(L)  Cylinders  ... Fuel Consumption Comb (mpg) CO2 Emissions(g/km)\n",
              "0             2.0          4  ...                          33                 196\n",
              "1             2.4          4  ...                          29                 221\n",
              "2             1.5          4  ...                          48                 136\n",
              "3             3.5          6  ...                          25                 255\n",
              "4             3.5          6  ...                          27                 244\n",
              "\n",
              "[5 rows x 9 columns]"
            ]
          },
          "metadata": {
            "tags": []
          },
          "execution_count": 20
        }
      ]
    },
    {
      "cell_type": "code",
      "metadata": {
        "id": "EMgMHM3onRSz",
        "colab": {
          "base_uri": "https://localhost:8080/"
        },
        "outputId": "2654bc06-b778-437b-952a-6653227b4135"
      },
      "source": [
        "data.isnull().sum()"
      ],
      "execution_count": 85,
      "outputs": [
        {
          "output_type": "execute_result",
          "data": {
            "text/plain": [
              "Engine Size(L)                      0\n",
              "Cylinders                           0\n",
              "Transmission                        0\n",
              "Fuel Type                           0\n",
              "Fuel Consumption City (L/100 km)    0\n",
              "Fuel Consumption Hwy (L/100 km)     0\n",
              "Fuel Consumption Comb (L/100 km)    0\n",
              "Fuel Consumption Comb (mpg)         0\n",
              "CO2 Emissions(g/km)                 0\n",
              "dtype: int64"
            ]
          },
          "metadata": {
            "tags": []
          },
          "execution_count": 85
        }
      ]
    },
    {
      "cell_type": "code",
      "metadata": {
        "id": "dZjE9t_a5ZzQ",
        "colab": {
          "base_uri": "https://localhost:8080/",
          "height": 466
        },
        "outputId": "925bd4df-50b0-425f-c4ee-6047ef641d3c"
      },
      "source": [
        "data.hist()"
      ],
      "execution_count": 86,
      "outputs": [
        {
          "output_type": "execute_result",
          "data": {
            "text/plain": [
              "array([[<matplotlib.axes._subplots.AxesSubplot object at 0x7f4e36012f90>,\n",
              "        <matplotlib.axes._subplots.AxesSubplot object at 0x7f4e36443590>,\n",
              "        <matplotlib.axes._subplots.AxesSubplot object at 0x7f4e35ef4b50>],\n",
              "       [<matplotlib.axes._subplots.AxesSubplot object at 0x7f4e35eb4210>,\n",
              "        <matplotlib.axes._subplots.AxesSubplot object at 0x7f4e35e6a890>,\n",
              "        <matplotlib.axes._subplots.AxesSubplot object at 0x7f4e35e1ef10>],\n",
              "       [<matplotlib.axes._subplots.AxesSubplot object at 0x7f4e35de0650>,\n",
              "        <matplotlib.axes._subplots.AxesSubplot object at 0x7f4e35d96c10>,\n",
              "        <matplotlib.axes._subplots.AxesSubplot object at 0x7f4e35d96c50>]],\n",
              "      dtype=object)"
            ]
          },
          "metadata": {
            "tags": []
          },
          "execution_count": 86
        },
        {
          "output_type": "display_data",
          "data": {
            "image/png": "[encoded data removed]",
            "text/plain": [
              "<Figure size 432x288 with 9 Axes>"
            ]
          },
          "metadata": {
            "tags": [],
            "needs_background": "light"
          }
        }
      ]
    },
    {
      "cell_type": "code",
      "metadata": {
        "id": "fuQh-ZWg68xR",
        "colab": {
          "base_uri": "https://localhost:8080/",
          "height": 356
        },
        "outputId": "8c907adf-f326-430b-8e9f-d461035f57ac"
      },
      "source": [
        "data.corr()"
      ],
      "execution_count": 87,
      "outputs": [
        {
          "output_type": "execute_result",
          "data": {
            "text/html": [
              "<div>\n",
              "<style scoped>\n",
              "    .dataframe tbody tr th:only-of-type {\n",
              "        vertical-align: middle;\n",
              "    }\n",
              "\n",
              "    .dataframe tbody tr th {\n",
              "        vertical-align: top;\n",
              "    }\n",
              "\n",
              "    .dataframe thead th {\n",
              "        text-align: right;\n",
              "    }\n",
              "</style>\n",
              "<table border=\"1\" class=\"dataframe\">\n",
              "  <thead>\n",
              "    <tr style=\"text-align: right;\">\n",
              "      <th></th>\n",
              "      <th>Engine Size(L)</th>\n",
              "      <th>Cylinders</th>\n",
              "      <th>Fuel Consumption City (L/100 km)</th>\n",
              "      <th>Fuel Consumption Hwy (L/100 km)</th>\n",
              "      <th>Fuel Consumption Comb (L/100 km)</th>\n",
              "      <th>Fuel Consumption Comb (mpg)</th>\n",
              "      <th>CO2 Emissions(g/km)</th>\n",
              "    </tr>\n",
              "  </thead>\n",
              "  <tbody>\n",
              "    <tr>\n",
              "      <th>Engine Size(L)</th>\n",
              "      <td>1.000000</td>\n",
              "      <td>0.927653</td>\n",
              "      <td>0.831379</td>\n",
              "      <td>0.761526</td>\n",
              "      <td>0.817060</td>\n",
              "      <td>-0.757854</td>\n",
              "      <td>0.851145</td>\n",
              "    </tr>\n",
              "    <tr>\n",
              "      <th>Cylinders</th>\n",
              "      <td>0.927653</td>\n",
              "      <td>1.000000</td>\n",
              "      <td>0.800702</td>\n",
              "      <td>0.715252</td>\n",
              "      <td>0.780534</td>\n",
              "      <td>-0.719321</td>\n",
              "      <td>0.832644</td>\n",
              "    </tr>\n",
              "    <tr>\n",
              "      <th>Fuel Consumption City (L/100 km)</th>\n",
              "      <td>0.831379</td>\n",
              "      <td>0.800702</td>\n",
              "      <td>1.000000</td>\n",
              "      <td>0.948180</td>\n",
              "      <td>0.993810</td>\n",
              "      <td>-0.927059</td>\n",
              "      <td>0.919592</td>\n",
              "    </tr>\n",
              "    <tr>\n",
              "      <th>Fuel Consumption Hwy (L/100 km)</th>\n",
              "      <td>0.761526</td>\n",
              "      <td>0.715252</td>\n",
              "      <td>0.948180</td>\n",
              "      <td>1.000000</td>\n",
              "      <td>0.977299</td>\n",
              "      <td>-0.890638</td>\n",
              "      <td>0.883536</td>\n",
              "    </tr>\n",
              "    <tr>\n",
              "      <th>Fuel Consumption Comb (L/100 km)</th>\n",
              "      <td>0.817060</td>\n",
              "      <td>0.780534</td>\n",
              "      <td>0.993810</td>\n",
              "      <td>0.977299</td>\n",
              "      <td>1.000000</td>\n",
              "      <td>-0.925576</td>\n",
              "      <td>0.918052</td>\n",
              "    </tr>\n",
              "    <tr>\n",
              "      <th>Fuel Consumption Comb (mpg)</th>\n",
              "      <td>-0.757854</td>\n",
              "      <td>-0.719321</td>\n",
              "      <td>-0.927059</td>\n",
              "      <td>-0.890638</td>\n",
              "      <td>-0.925576</td>\n",
              "      <td>1.000000</td>\n",
              "      <td>-0.907426</td>\n",
              "    </tr>\n",
              "    <tr>\n",
              "      <th>CO2 Emissions(g/km)</th>\n",
              "      <td>0.851145</td>\n",
              "      <td>0.832644</td>\n",
              "      <td>0.919592</td>\n",
              "      <td>0.883536</td>\n",
              "      <td>0.918052</td>\n",
              "      <td>-0.907426</td>\n",
              "      <td>1.000000</td>\n",
              "    </tr>\n",
              "  </tbody>\n",
              "</table>\n",
              "</div>"
            ],
            "text/plain": [
              "                                  Engine Size(L)  ...  CO2 Emissions(g/km)\n",
              "Engine Size(L)                          1.000000  ...             0.851145\n",
              "Cylinders                               0.927653  ...             0.832644\n",
              "Fuel Consumption City (L/100 km)        0.831379  ...             0.919592\n",
              "Fuel Consumption Hwy (L/100 km)         0.761526  ...             0.883536\n",
              "Fuel Consumption Comb (L/100 km)        0.817060  ...             0.918052\n",
              "Fuel Consumption Comb (mpg)            -0.757854  ...            -0.907426\n",
              "CO2 Emissions(g/km)                     0.851145  ...             1.000000\n",
              "\n",
              "[7 rows x 7 columns]"
            ]
          },
          "metadata": {
            "tags": []
          },
          "execution_count": 87
        }
      ]
    },
    {
      "cell_type": "code",
      "metadata": {
        "colab": {
          "base_uri": "https://localhost:8080/"
        },
        "id": "X92AK9cZ7EXq",
        "outputId": "bcb048de-4c93-4e51-bad8-e25a0c565fc5"
      },
      "source": [
        "x = np.array(data.iloc[:,4:-1])\n",
        "#x = np.array(data['Fuel Consumption City (L/100 km)']).reshape(-1,1)\n",
        "y = np.array(data['CO2 Emissions(g/km)']).reshape(-1,1)\n",
        "print(x.shape)\n",
        "print(y.shape)"
      ],
      "execution_count": 88,
      "outputs": [
        {
          "output_type": "stream",
          "text": [
            "(7385, 4)\n",
            "(7385, 1)\n"
          ],
          "name": "stdout"
        }
      ]
    },
    {
      "cell_type": "code",
      "metadata": {
        "id": "DBTt6Tzr7rFB"
      },
      "source": [
        "from sklearn.model_selection import train_test_split as tts\n",
        "x_train,x_test,y_train,y_test = tts(x,y,test_size=0.3,random_state = 1)\n",
        "y_train = y_train.astype(float)\n",
        "y_test = y_test.astype(float)"
      ],
      "execution_count": null,
      "outputs": []
    },
    {
      "cell_type": "code",
      "metadata": {
        "colab": {
          "base_uri": "https://localhost:8080/"
        },
        "id": "3HglGIL18j90",
        "outputId": "b6012ecf-3b76-48f6-9828-fcddf9e189b1"
      },
      "source": [
        "from sklearn.linear_model import LinearRegression as lr\n",
        "reg = lr()\n",
        "reg.fit(x_train,y_train)"
      ],
      "execution_count": null,
      "outputs": [
        {
          "output_type": "execute_result",
          "data": {
            "text/plain": [
              "LinearRegression(copy_X=True, fit_intercept=True, n_jobs=None, normalize=False)"
            ]
          },
          "metadata": {
            "tags": []
          },
          "execution_count": 83
        }
      ]
    },
    {
      "cell_type": "code",
      "metadata": {
        "colab": {
          "base_uri": "https://localhost:8080/"
        },
        "id": "3q2XYEwO85mw",
        "outputId": "247619b7-04f7-423b-9110-0eeb35b81f2d"
      },
      "source": [
        "y_pred = reg.predict(x_test)\n",
        "print(y_pred[:15])\n",
        "print(y_test[:15])"
      ],
      "execution_count": null,
      "outputs": [
        {
          "output_type": "stream",
          "text": [
            "[[210.7118801 ]\n",
            " [215.89957691]\n",
            " [177.36283898]\n",
            " [224.65309219]\n",
            " [259.24643407]\n",
            " [250.0863028 ]\n",
            " [203.57637947]\n",
            " [269.79894866]\n",
            " [319.16876765]\n",
            " [284.29807169]\n",
            " [271.69824214]\n",
            " [207.22052975]\n",
            " [299.12862062]\n",
            " [259.44938109]\n",
            " [232.70225071]]\n",
            "[[202.]\n",
            " [214.]\n",
            " [174.]\n",
            " [220.]\n",
            " [264.]\n",
            " [249.]\n",
            " [200.]\n",
            " [274.]\n",
            " [248.]\n",
            " [287.]\n",
            " [273.]\n",
            " [198.]\n",
            " [311.]\n",
            " [255.]\n",
            " [228.]]\n"
          ],
          "name": "stdout"
        }
      ]
    },
    {
      "cell_type": "code",
      "metadata": {
        "colab": {
          "base_uri": "https://localhost:8080/",
          "height": 295
        },
        "id": "0Pir0q8l-kTf",
        "outputId": "5796e916-30d8-43e8-b0d0-82e6627c189c"
      },
      "source": [
        "plt.scatter(x_train,y_train,color='blue')\n",
        "plt.plot(x_train,reg.predict(x_train),color='red')\n",
        "plt.title('CO2 emissions in Canada')\n",
        "plt.xlabel('Salary Vs Experience (Teaining set')\n",
        "plt.ylabel('CO2 Emissions(g/km)')\n",
        "plt.show()"
      ],
      "execution_count": null,
      "outputs": [
        {
          "output_type": "display_data",
          "data": {
            "image/png": "[encoded data removed]",
            "text/plain": [
              "<Figure size 432x288 with 1 Axes>"
            ]
          },
          "metadata": {
            "tags": [],
            "needs_background": "light"
          }
        }
      ]
    },
    {
      "cell_type": "code",
      "metadata": {
        "colab": {
          "base_uri": "https://localhost:8080/",
          "height": 295
        },
        "id": "Y1HSKAgJAQNQ",
        "outputId": "166f9826-ca89-4316-902d-dbfe8860d440"
      },
      "source": [
        "plt.scatter(x_test,y_test,color='blue')\n",
        "plt.plot(x_test,reg.predict(x_test),color='red')\n",
        "plt.title('CO2 emissions in Canada')\n",
        "plt.xlabel('Salary Vs Experience (Teaining set')\n",
        "plt.ylabel('CO2 Emissions(g/km)')\n",
        "plt.show()"
      ],
      "execution_count": null,
      "outputs": [
        {
          "output_type": "display_data",
          "data": {
            "image/png": "[encoded data removed]",
            "text/plain": [
              "<Figure size 432x288 with 1 Axes>"
            ]
          },
          "metadata": {
            "tags": [],
            "needs_background": "light"
          }
        }
      ]
    },
    {
      "cell_type": "code",
      "metadata": {
        "id": "VmvA1GcqBd8o"
      },
      "source": [
        ""
      ],
      "execution_count": 84,
      "outputs": []
    },
    {
      "cell_type": "code",
      "metadata": {
        "id": "dLfsVljXByo1"
      },
      "source": [
        ""
      ],
      "execution_count": null,
      "outputs": []
    }
  ]
}